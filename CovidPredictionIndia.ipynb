{
  "nbformat": 4,
  "nbformat_minor": 0,
  "metadata": {
    "colab": {
      "provenance": []
    },
    "kernelspec": {
      "name": "python3",
      "display_name": "Python 3"
    },
    "language_info": {
      "name": "python"
    }
  },
  "cells": [
    {
      "cell_type": "code",
      "source": [
        "#https://raw.githubusercontent.com/amankharwal/Website-data/master/COVID19%20data%20for%20overall%20INDIA.csv\n",
        "#for data set"
      ],
      "metadata": {
        "id": "9wzBHJ8tbEqt"
      },
      "execution_count": null,
      "outputs": []
    },
    {
      "cell_type": "code",
      "execution_count": null,
      "metadata": {
        "id": "X7IKJyfkWhAG"
      },
      "outputs": [],
      "source": [
        "import pandas as pd\n",
        "import numpy as np\n",
        "data = pd.read_csv(\"COVID19 data for overall INDIA.csv\")\n",
        "print(data.head())"
      ]
    },
    {
      "cell_type": "code",
      "source": [
        "data.isnull().sum()"
      ],
      "metadata": {
        "id": "MuooF2eYXu7s"
      },
      "execution_count": null,
      "outputs": []
    },
    {
      "cell_type": "code",
      "source": [
        "data = data.drop(\"Date\", axis=1)"
      ],
      "metadata": {
        "id": "OgZ0mAPbX3wS"
      },
      "execution_count": null,
      "outputs": []
    },
    {
      "cell_type": "code",
      "source": [
        "import plotly.express as px\n",
        "fig = px.bar(data, x='Date_YMD', y='Daily Confirmed')\n",
        "fig.show()"
      ],
      "metadata": {
        "id": "b1ct8ds_YDVP"
      },
      "execution_count": null,
      "outputs": []
    },
    {
      "cell_type": "code",
      "source": [
        "cases = data[\"Daily Confirmed\"].sum()\n",
        "deceased = data[\"Daily Deceased\"].sum()\n",
        "\n",
        "labels = [\"Confirmed\", \"Deceased\"]\n",
        "values = [cases, deceased]\n",
        "\n",
        "fig = px.pie(data, values=values,\n",
        "             names=labels,\n",
        "             title='Daily Confirmed Cases vs Daily Deaths', hole=0.5)\n",
        "fig.show()"
      ],
      "metadata": {
        "id": "E9TAU3wpYHaP"
      },
      "execution_count": null,
      "outputs": []
    },
    {
      "cell_type": "code",
      "source": [
        "death_rate = (data[\"Daily Deceased\"].sum() / data[\"Daily Confirmed\"].sum()) * 100\n",
        "print(death_rate)"
      ],
      "metadata": {
        "id": "8FtvNYlWYNAc"
      },
      "execution_count": null,
      "outputs": []
    },
    {
      "cell_type": "code",
      "source": [
        "import plotly.express as px\n",
        "fig = px.bar(data, x='Date_YMD', y='Daily Deceased')\n",
        "fig.show()"
      ],
      "metadata": {
        "id": "uz_l4yqmYS_e"
      },
      "execution_count": null,
      "outputs": []
    },
    {
      "cell_type": "code",
      "source": [
        "from autots import AutoTS\n",
        "model = AutoTS(forecast_length=30, frequency='infer', ensemble='simple')\n",
        "model = model.fit(data, date_col=\"Date_YMD\", value_col='Daily Deceased', id_col=None)\n",
        "prediction = model.predict()\n",
        "forecast = prediction.forecast\n",
        "print(forecast)"
      ],
      "metadata": {
        "id": "lum1otcNXgin"
      },
      "execution_count": null,
      "outputs": []
    }
  ]
}